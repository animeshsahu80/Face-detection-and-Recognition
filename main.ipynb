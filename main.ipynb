{
 "cells": [
  {
   "cell_type": "code",
   "execution_count": null,
   "metadata": {},
   "outputs": [],
   "source": []
  },
  {
   "cell_type": "code",
   "execution_count": 11,
   "metadata": {},
   "outputs": [],
   "source": [
    "import cv2\n",
    "import numpy\n",
    "import pickle"
   ]
  },
  {
   "cell_type": "code",
   "execution_count": 13,
   "metadata": {},
   "outputs": [],
   "source": [
    "face_cascade=cv2.CascadeClassifier('data/haarcascade_frontalface_default.xml')\n",
    "face_recognizer = cv2.face.LBPHFaceRecognizer_create()\n",
    "face_recognizer.read('train_model.yml')\n",
    "eyes_cascade=cv2.CascadeClassifier('data/haarcascade_eye.xml')\n",
    "smile_cascade=cv2.CascadeClassifier('data/haarcascade_smile1.xml')\n"
   ]
  },
  {
   "cell_type": "code",
   "execution_count": 14,
   "metadata": {},
   "outputs": [],
   "source": [
    "label={}\n",
    "with open('labels.pickle','rb') as f:\n",
    "    label=pickle.load(f)\n",
    "final_label = {v: k for k, v in label.items()} "
   ]
  },
  {
   "cell_type": "code",
   "execution_count": 9,
   "metadata": {},
   "outputs": [
    {
     "ename": "error",
     "evalue": "OpenCV(4.2.0) /io/opencv/modules/imgproc/src/color.cpp:182: error: (-215:Assertion failed) !_src.empty() in function 'cvtColor'\n",
     "output_type": "error",
     "traceback": [
      "\u001b[0;31m---------------------------------------------------------------------------\u001b[0m",
      "\u001b[0;31merror\u001b[0m                                     Traceback (most recent call last)",
      "\u001b[0;32m<ipython-input-9-c834e16b854b>\u001b[0m in \u001b[0;36m<module>\u001b[0;34m\u001b[0m\n\u001b[1;32m      4\u001b[0m     \u001b[0mret_val\u001b[0m\u001b[0;34m,\u001b[0m \u001b[0mimg\u001b[0m \u001b[0;34m=\u001b[0m \u001b[0mcam\u001b[0m\u001b[0;34m.\u001b[0m\u001b[0mread\u001b[0m\u001b[0;34m(\u001b[0m\u001b[0;34m)\u001b[0m\u001b[0;34m\u001b[0m\u001b[0m\n\u001b[1;32m      5\u001b[0m     \u001b[0;31m#print(ret_val)\u001b[0m\u001b[0;34m\u001b[0m\u001b[0;34m\u001b[0m\u001b[0m\n\u001b[0;32m----> 6\u001b[0;31m     \u001b[0mgray\u001b[0m\u001b[0;34m=\u001b[0m\u001b[0mcv2\u001b[0m\u001b[0;34m.\u001b[0m\u001b[0mcvtColor\u001b[0m\u001b[0;34m(\u001b[0m\u001b[0mimg\u001b[0m\u001b[0;34m,\u001b[0m\u001b[0mcv2\u001b[0m\u001b[0;34m.\u001b[0m\u001b[0mCOLOR_BGR2GRAY\u001b[0m\u001b[0;34m)\u001b[0m\u001b[0;34m\u001b[0m\u001b[0m\n\u001b[0m\u001b[1;32m      7\u001b[0m     \u001b[0mfaces\u001b[0m\u001b[0;34m=\u001b[0m\u001b[0mface_cascade\u001b[0m\u001b[0;34m.\u001b[0m\u001b[0mdetectMultiScale\u001b[0m\u001b[0;34m(\u001b[0m\u001b[0mgray\u001b[0m\u001b[0;34m,\u001b[0m\u001b[0mscaleFactor\u001b[0m\u001b[0;34m=\u001b[0m\u001b[0;36m1.5\u001b[0m\u001b[0;34m)\u001b[0m\u001b[0;34m\u001b[0m\u001b[0m\n\u001b[1;32m      8\u001b[0m     \u001b[0meyes\u001b[0m\u001b[0;34m=\u001b[0m\u001b[0meyes_cascade\u001b[0m\u001b[0;34m.\u001b[0m\u001b[0mdetectMultiScale\u001b[0m\u001b[0;34m(\u001b[0m\u001b[0mgray\u001b[0m\u001b[0;34m,\u001b[0m\u001b[0mscaleFactor\u001b[0m\u001b[0;34m=\u001b[0m\u001b[0;36m1.5\u001b[0m\u001b[0;34m)\u001b[0m\u001b[0;34m\u001b[0m\u001b[0m\n",
      "\u001b[0;31merror\u001b[0m: OpenCV(4.2.0) /io/opencv/modules/imgproc/src/color.cpp:182: error: (-215:Assertion failed) !_src.empty() in function 'cvtColor'\n"
     ]
    }
   ],
   "source": [
    "cam = cv2.VideoCapture(0)\n",
    "\n",
    "while True:\n",
    "    ret_val, img = cam.read()\n",
    "    #print(ret_val)\n",
    "    gray=cv2.cvtColor(img,cv2.COLOR_BGR2GRAY)\n",
    "    faces=face_cascade.detectMultiScale(gray,scaleFactor=1.5)\n",
    "    eyes=eyes_cascade.detectMultiScale(gray,scaleFactor=1.5)    \n",
    "    smile=smile_cascade.detectMultiScale(gray,scaleFactor=1.5)\n",
    "    for(x,y,h,w) in smile:\n",
    "        roi_gray=gray[y:y+h,x:x+w]\n",
    "        color=(0,255,0)\n",
    "        width=x+w;\n",
    "        height=y+h;  \n",
    "        cv2.rectangle(img,(x,y),(width,height),color,2)    \n",
    "    \n",
    "    \n",
    "    for(x,y,h,w) in eyes:\n",
    "        roi_gray=gray[y:y+h,x:x+w]\n",
    "        color=(0,255,0)\n",
    "        width=x+w;\n",
    "        height=y+h;  \n",
    "        cv2.rectangle(img,(x,y),(width,height),color,2)    \n",
    "    \n",
    "    for(x,y,h,w) in faces:\n",
    "        #print(x,y,w,h)\n",
    "        roi_gray=gray[y:y+h,x:x+w]\n",
    "        _id,confidance=face_recognizer.predict(roi_gray)\n",
    "        if confidance>=45 and confidance<=90:\n",
    "            print(final_label[_id])\n",
    "            font=cv2.FONT_HERSHEY_SIMPLEX\n",
    "            name=final_label[_id]\n",
    "            color=(225,234,34)\n",
    "            stroke=5\n",
    "            cv2.putText(img,name,(x,y),font,1,color,stroke,cv2.LINE_AA)\n",
    "        cv2.imwrite('roi.png',roi_gray)\n",
    "        color=(255,0,0)\n",
    "        width=x+w;\n",
    "        height=y+h;\n",
    "        \n",
    "        cv2.rectangle(img,(x,y),(width,height),color,2) \n",
    "    if False: \n",
    "        img = cv2.flip(img, 1)\n",
    "    cv2.imshow('my webcam', img)\n",
    "    if cv2.waitKey(1) == 27: \n",
    "        break  # esc to quit\n",
    "cv2.destroyAllWindows()\n",
    "\n"
   ]
  },
  {
   "cell_type": "code",
   "execution_count": 21,
   "metadata": {},
   "outputs": [],
   "source": [
    "fr = cv2.face.FisherFaceRecognizer_create()\n"
   ]
  },
  {
   "cell_type": "code",
   "execution_count": null,
   "metadata": {},
   "outputs": [],
   "source": []
  },
  {
   "cell_type": "code",
   "execution_count": null,
   "metadata": {},
   "outputs": [],
   "source": []
  }
 ],
 "metadata": {
  "kernelspec": {
   "display_name": "Python 3",
   "language": "python",
   "name": "python3"
  },
  "language_info": {
   "codemirror_mode": {
    "name": "ipython",
    "version": 3
   },
   "file_extension": ".py",
   "mimetype": "text/x-python",
   "name": "python",
   "nbconvert_exporter": "python",
   "pygments_lexer": "ipython3",
   "version": "3.5.2"
  }
 },
 "nbformat": 4,
 "nbformat_minor": 4
}
