{
 "cells": [
  {
   "cell_type": "code",
   "execution_count": 9,
   "metadata": {},
   "outputs": [],
   "source": [
    "import os\n",
    "from conf import BASE_DIR\n",
    "from PIL import Image\n",
    "import numpy as np\n",
    "import cv2\n",
    "import pickle"
   ]
  },
  {
   "cell_type": "code",
   "execution_count": 10,
   "metadata": {},
   "outputs": [],
   "source": [
    "image_dir=os.path.join(BASE_DIR,'images')\n",
    "face_cascade=cv2.CascadeClassifier('data/haarcascade_frontalface_default.xml')\n",
    "face_recognizer = cv2.face.LBPHFaceRecognizer_create()\n",
    "\n",
    "\n"
   ]
  },
  {
   "cell_type": "code",
   "execution_count": 12,
   "metadata": {},
   "outputs": [
    {
     "data": {
      "text/plain": [
       "{'aaron-paul': 1, 'animesh': 3, 'bryan-cr': 2, 'steve-carell': 0}"
      ]
     },
     "execution_count": 12,
     "metadata": {},
     "output_type": "execute_result"
    }
   ],
   "source": [
    "x_train=[]\n",
    "y_label=[]\n",
    "current_id=0;\n",
    "label_dic={}\n",
    "for root, dirs, files in os.walk(image_dir):\n",
    "    for fname in files:\n",
    "        if fname.endswith('jpg') or fname.endswith('png'):\n",
    "            path=os.path.join(root,fname)\n",
    "            label=os.path.basename(os.path.dirname(path)).replace(' ',\"-\").lower()        \n",
    "            #print(label)\n",
    "            if label in label_dic:\n",
    "                pass;\n",
    "            else:\n",
    "                label_dic[label]=current_id\n",
    "                current_id+=1\n",
    "            _id=label_dic[label ]\n",
    "            pil_img=Image.open(path).convert('L')\n",
    "            img_arr=np.array(pil_img)\n",
    "            #gray=cv2.cvtColor(pil_img,cv2.COLOR_BGR2GRAY)\n",
    "            faces=face_cascade.detectMultiScale(img_arr,scaleFactor=1.5)\n",
    "            for(x,y,h,w) in faces:\n",
    "                #print(x,y,w,h)\n",
    "                roi_gray=img_arr[y:y+h,x:x+w]\n",
    "                x_train.append(roi_gray)\n",
    "                y_label.append(_id)\n",
    "label_dic          \n",
    "          \n",
    "    "
   ]
  },
  {
   "cell_type": "code",
   "execution_count": 14,
   "metadata": {},
   "outputs": [],
   "source": [
    "with open('labels.pickle','wb') as f:\n",
    "    pickle.dump(label_dic,f)"
   ]
  },
  {
   "cell_type": "code",
   "execution_count": 15,
   "metadata": {},
   "outputs": [],
   "source": [
    "face_recognizer.train(x_train,np.array(y_label))\n",
    "face_recognizer.save('train_model.yml')"
   ]
  },
  {
   "cell_type": "code",
   "execution_count": null,
   "metadata": {},
   "outputs": [],
   "source": []
  }
 ],
 "metadata": {
  "kernelspec": {
   "display_name": "Python 3",
   "language": "python",
   "name": "python3"
  },
  "language_info": {
   "codemirror_mode": {
    "name": "ipython",
    "version": 3
   },
   "file_extension": ".py",
   "mimetype": "text/x-python",
   "name": "python",
   "nbconvert_exporter": "python",
   "pygments_lexer": "ipython3",
   "version": "3.5.2"
  }
 },
 "nbformat": 4,
 "nbformat_minor": 4
}
